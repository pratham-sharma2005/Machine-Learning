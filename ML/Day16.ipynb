{
 "cells": [
  {
   "cell_type": "code",
   "execution_count": null,
   "id": "9858499b-2e9e-4086-9dc3-ec94fb57fbf3",
   "metadata": {},
   "outputs": [],
   "source": [
    "#STUDY OF JSON"
   ]
  },
  {
   "cell_type": "code",
   "execution_count": 1,
   "id": "f0caf83b-32f9-49a1-b616-a22493b789e9",
   "metadata": {},
   "outputs": [
    {
     "data": {
      "text/html": [
       "<div>\n",
       "<style scoped>\n",
       "    .dataframe tbody tr th:only-of-type {\n",
       "        vertical-align: middle;\n",
       "    }\n",
       "\n",
       "    .dataframe tbody tr th {\n",
       "        vertical-align: top;\n",
       "    }\n",
       "\n",
       "    .dataframe thead th {\n",
       "        text-align: right;\n",
       "    }\n",
       "</style>\n",
       "<table border=\"1\" class=\"dataframe\">\n",
       "  <thead>\n",
       "    <tr style=\"text-align: right;\">\n",
       "      <th></th>\n",
       "      <th>id</th>\n",
       "      <th>ingredients</th>\n",
       "    </tr>\n",
       "  </thead>\n",
       "  <tbody>\n",
       "    <tr>\n",
       "      <th>0</th>\n",
       "      <td>18009</td>\n",
       "      <td>[baking powder, eggs, all-purpose flour, raisi...</td>\n",
       "    </tr>\n",
       "    <tr>\n",
       "      <th>1</th>\n",
       "      <td>28583</td>\n",
       "      <td>[sugar, egg yolks, corn starch, cream of tarta...</td>\n",
       "    </tr>\n",
       "    <tr>\n",
       "      <th>2</th>\n",
       "      <td>41580</td>\n",
       "      <td>[sausage links, fennel bulb, fronds, olive oil...</td>\n",
       "    </tr>\n",
       "    <tr>\n",
       "      <th>3</th>\n",
       "      <td>29752</td>\n",
       "      <td>[meat cuts, file powder, smoked sausage, okra,...</td>\n",
       "    </tr>\n",
       "    <tr>\n",
       "      <th>4</th>\n",
       "      <td>35687</td>\n",
       "      <td>[ground black pepper, salt, sausage casings, l...</td>\n",
       "    </tr>\n",
       "    <tr>\n",
       "      <th>...</th>\n",
       "      <td>...</td>\n",
       "      <td>...</td>\n",
       "    </tr>\n",
       "    <tr>\n",
       "      <th>9939</th>\n",
       "      <td>30246</td>\n",
       "      <td>[large egg yolks, fresh lemon juice, sugar, bo...</td>\n",
       "    </tr>\n",
       "    <tr>\n",
       "      <th>9940</th>\n",
       "      <td>36028</td>\n",
       "      <td>[hot sauce, butter, sweet potatoes, adobo sauc...</td>\n",
       "    </tr>\n",
       "    <tr>\n",
       "      <th>9941</th>\n",
       "      <td>22339</td>\n",
       "      <td>[black pepper, salt, parmigiano reggiano chees...</td>\n",
       "    </tr>\n",
       "    <tr>\n",
       "      <th>9942</th>\n",
       "      <td>42525</td>\n",
       "      <td>[cheddar cheese, cayenne, paprika, plum tomato...</td>\n",
       "    </tr>\n",
       "    <tr>\n",
       "      <th>9943</th>\n",
       "      <td>1443</td>\n",
       "      <td>[cold water, olive oil, lime wedges, garlic cl...</td>\n",
       "    </tr>\n",
       "  </tbody>\n",
       "</table>\n",
       "<p>9944 rows × 2 columns</p>\n",
       "</div>"
      ],
      "text/plain": [
       "         id                                        ingredients\n",
       "0     18009  [baking powder, eggs, all-purpose flour, raisi...\n",
       "1     28583  [sugar, egg yolks, corn starch, cream of tarta...\n",
       "2     41580  [sausage links, fennel bulb, fronds, olive oil...\n",
       "3     29752  [meat cuts, file powder, smoked sausage, okra,...\n",
       "4     35687  [ground black pepper, salt, sausage casings, l...\n",
       "...     ...                                                ...\n",
       "9939  30246  [large egg yolks, fresh lemon juice, sugar, bo...\n",
       "9940  36028  [hot sauce, butter, sweet potatoes, adobo sauc...\n",
       "9941  22339  [black pepper, salt, parmigiano reggiano chees...\n",
       "9942  42525  [cheddar cheese, cayenne, paprika, plum tomato...\n",
       "9943   1443  [cold water, olive oil, lime wedges, garlic cl...\n",
       "\n",
       "[9944 rows x 2 columns]"
      ]
     },
     "execution_count": 1,
     "metadata": {},
     "output_type": "execute_result"
    }
   ],
   "source": [
    "import numpy as np\n",
    "import pandas as pd \n",
    "\n",
    "df=pd.read_json(\"/Users/prathamsharma/Desktop/ML/test.json\")\n",
    "df"
   ]
  }
 ],
 "metadata": {
  "kernelspec": {
   "display_name": "Python 3 (ipykernel)",
   "language": "python",
   "name": "python3"
  },
  "language_info": {
   "codemirror_mode": {
    "name": "ipython",
    "version": 3
   },
   "file_extension": ".py",
   "mimetype": "text/x-python",
   "name": "python",
   "nbconvert_exporter": "python",
   "pygments_lexer": "ipython3",
   "version": "3.13.2"
  }
 },
 "nbformat": 4,
 "nbformat_minor": 5
}
