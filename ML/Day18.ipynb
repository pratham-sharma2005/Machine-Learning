{
 "cells": [
  {
   "cell_type": "code",
   "execution_count": 1,
   "id": "95d4d2b5-fd50-4084-a646-53abbcc135a0",
   "metadata": {},
   "outputs": [],
   "source": [
    "#WEB SCRAPPING \n"
   ]
  },
  {
   "cell_type": "code",
   "execution_count": 5,
   "id": "b724c578-dff0-499b-bcf5-2ee33b902d57",
   "metadata": {},
   "outputs": [
    {
     "data": {
      "text/plain": [
       "'<HTML><HEAD>\\n<TITLE>Access Denied</TITLE>\\n</HEAD><BODY>\\n<H1>Access Denied</H1>\\n \\nYou don\\'t have permission to access \"http&#58;&#47;&#47;www&#46;ambitionbox&#46;com&#47;list&#45;of&#45;companies&#63;\" on this server.<P>\\nReference&#32;&#35;18&#46;8c014017&#46;1748029659&#46;42c545d4\\n<P>https&#58;&#47;&#47;errors&#46;edgesuite&#46;net&#47;18&#46;8c014017&#46;1748029659&#46;42c545d4</P>\\n</BODY>\\n</HTML>\\n'"
      ]
     },
     "execution_count": 5,
     "metadata": {},
     "output_type": "execute_result"
    }
   ],
   "source": [
    "import pandas as pd\n",
    "import requests\n",
    "from bs4 import BeautifulSoup\n",
    "#requests.get(\"https://www.ambitionbox.com/list-of-companies?page=1\") this shows Response 403 which means server deined the access\n",
    "requests.get(\"https://www.ambitionbox.com/list-of-companies?page=1\").text\n",
    "#also shows \"Access Denied\""
   ]
  },
  {
   "cell_type": "code",
   "execution_count": null,
   "id": "bb047f83-c07e-4595-98f2-e520e7c9c53b",
   "metadata": {},
   "outputs": [],
   "source": [
    "import requests\n",
    "\n",
    "headers = {\n",
    "    'User-Agent': 'Mozilla/5.0 (Windows NT 6.3; Win64; x64) AppleWebKit/537.36 (KHTML, like Gecko) Chrome/80.0.3987.162 Safari/537.36'\n",
    "}\n",
    "\n",
    "url = \"https://www.ambitionbox.com/list-of-companies?page=1\"\n",
    "response = requests.get(url, headers=headers)\n",
    "print(response.text)\n",
    "\n"
   ]
  },
  {
   "cell_type": "code",
   "execution_count": null,
   "id": "c476ca17-2ce0-489c-9e75-8ebd106b6cab",
   "metadata": {},
   "outputs": [],
   "source": []
  }
 ],
 "metadata": {
  "kernelspec": {
   "display_name": "Python 3 (ipykernel)",
   "language": "python",
   "name": "python3"
  },
  "language_info": {
   "codemirror_mode": {
    "name": "ipython",
    "version": 3
   },
   "file_extension": ".py",
   "mimetype": "text/x-python",
   "name": "python",
   "nbconvert_exporter": "python",
   "pygments_lexer": "ipython3",
   "version": "3.13.2"
  }
 },
 "nbformat": 4,
 "nbformat_minor": 5
}
