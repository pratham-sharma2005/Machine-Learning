{
 "cells": [
  {
   "cell_type": "code",
   "execution_count": 3,
   "id": "6eff5b6b-2a64-4b15-8e94-9a7a5b0805fb",
   "metadata": {},
   "outputs": [],
   "source": [
    "#Pandas Profiling NOT supported"
   ]
  }
 ],
 "metadata": {
  "kernelspec": {
   "display_name": "Python 3 (ipykernel)",
   "language": "python",
   "name": "python3"
  },
  "language_info": {
   "codemirror_mode": {
    "name": "ipython",
    "version": 3
   },
   "file_extension": ".py",
   "mimetype": "text/x-python",
   "name": "python",
   "nbconvert_exporter": "python",
   "pygments_lexer": "ipython3",
   "version": "3.13.2"
  }
 },
 "nbformat": 4,
 "nbformat_minor": 5
}
